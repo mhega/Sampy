{
 "cells": [
  {
   "cell_type": "markdown",
   "id": "c8f993a8",
   "metadata": {},
   "source": [
    "#### Required modules:\n",
    "\n",
    "###### ** ListTables module (available in this repo) is required for calling debugging function - printAllItems. If you wish to not import it, remove/comment the following lines in Lookup module:\n",
    "\n",
    "```\n",
    "from ListTables import printList\n",
    ":::\n",
    "    def printAllItems(*, keyPairs):\n",
    "        printList(('',''), [(set(i[0]), i[1]) for i in list(Lookup.lookupDictionary.items()) if set(keyPairs).issubset(set(i[0]))]) \n",
    "\n",
    "```"
   ]
  },
  {
   "cell_type": "markdown",
   "id": "3b234b99",
   "metadata": {},
   "source": [
    "##### Lookup can be used to accomplish inter-process communication between modules that are shared by the same program run<br><br>Example:\n",
    "\n",
    "\n",
    "\n",
    "module1:\n",
    "```\n",
    "from Lookup import Lookup\n",
    "from Lookup import utils\n",
    "utils.setCacheEntry(zipFileName='FileName.zip',functionName='some_func',value='some_value')\n",
    "```\n",
    "\n",
    "module2:\n",
    "```\n",
    "from Lookup import Lookup\n",
    "from Lookup import utils\n",
    "print(utils.getCacheEntry(zipFileName='FileName.zip',functionName='some_func',default=None))\n",
    "```\n",
    "\n",
    "Calling:\n",
    "```\n",
    ">py\n",
    "Python 3.8.7 (tags/v3.8.7:6503f05, Dec 21 2020, 17:59:51) [MSC v.1928 64 bit (AMD64)] on win32\n",
    "Type \"help\", \"copyright\", \"credits\" or \"license\" for more information.\n",
    ">>> import module1\n",
    ">>> import module2\n",
    "some_value\n",
    ">>>\n",
    "```"
   ]
  },
  {
   "cell_type": "code",
   "execution_count": 3,
   "id": "8b7b11f8",
   "metadata": {},
   "outputs": [],
   "source": [
    "from Lookup import utils\n",
    "from Lookup import Lookup\n"
   ]
  },
  {
   "cell_type": "code",
   "execution_count": 4,
   "id": "03e84501",
   "metadata": {},
   "outputs": [],
   "source": [
    "utils.setCacheEntry(zipFileName='FileName.zip',functionName='some_func',value='some_value')\n"
   ]
  },
  {
   "cell_type": "code",
   "execution_count": 5,
   "id": "d463ae99",
   "metadata": {},
   "outputs": [
    {
     "data": {
      "text/plain": [
       "'some_value'"
      ]
     },
     "execution_count": 5,
     "metadata": {},
     "output_type": "execute_result"
    }
   ],
   "source": [
    "utils.getCacheEntry(zipFileName='FileName.zip',functionName='some_func', default=None)"
   ]
  },
  {
   "cell_type": "markdown",
   "id": "684fe5a9",
   "metadata": {},
   "source": [
    "#### Custom getters/setters can be implemented to achieve lookup by different variable names"
   ]
  },
  {
   "cell_type": "code",
   "execution_count": 6,
   "id": "c3831795",
   "metadata": {},
   "outputs": [],
   "source": [
    "from Lookup import Lookup"
   ]
  },
  {
   "cell_type": "code",
   "execution_count": 7,
   "id": "be74662a",
   "metadata": {},
   "outputs": [],
   "source": [
    "def setParamValue(*, paramName, value):\n",
    "    Lookup.put(keyPairs = [('__paramName__',paramName),],value=value)\n"
   ]
  },
  {
   "cell_type": "code",
   "execution_count": 8,
   "id": "4196814b",
   "metadata": {},
   "outputs": [],
   "source": [
    "def getParamValue(*, paramName, default):\n",
    "    return Lookup.get(keyPairs = [('__paramName__',paramName),],default=default)"
   ]
  },
  {
   "cell_type": "code",
   "execution_count": 9,
   "id": "0f3132ec",
   "metadata": {},
   "outputs": [],
   "source": [
    "setParamValue(paramName='name', value='John')"
   ]
  },
  {
   "cell_type": "code",
   "execution_count": 10,
   "id": "aceb55b7",
   "metadata": {},
   "outputs": [],
   "source": [
    "setParamValue(paramName='age', value=23)"
   ]
  },
  {
   "cell_type": "code",
   "execution_count": 11,
   "id": "d6ac7c09",
   "metadata": {},
   "outputs": [
    {
     "data": {
      "text/plain": [
       "'John'"
      ]
     },
     "execution_count": 11,
     "metadata": {},
     "output_type": "execute_result"
    }
   ],
   "source": [
    "getParamValue(paramName='name', default='Unknown')"
   ]
  },
  {
   "cell_type": "code",
   "execution_count": 12,
   "id": "bc60929d",
   "metadata": {},
   "outputs": [
    {
     "data": {
      "text/plain": [
       "23"
      ]
     },
     "execution_count": 12,
     "metadata": {},
     "output_type": "execute_result"
    }
   ],
   "source": [
    "getParamValue(paramName='age', default=-1)"
   ]
  },
  {
   "cell_type": "markdown",
   "id": "873654f3",
   "metadata": {},
   "source": [
    "#### Use matchWildcard boolean to allow the use of * to lookup all parameter name values"
   ]
  },
  {
   "cell_type": "code",
   "execution_count": 13,
   "id": "6bd5cf56",
   "metadata": {},
   "outputs": [
    {
     "data": {
      "text/plain": [
       "'Unknown'"
      ]
     },
     "execution_count": 13,
     "metadata": {},
     "output_type": "execute_result"
    }
   ],
   "source": [
    "getParamValue(paramName='*', default='Unknown')"
   ]
  },
  {
   "cell_type": "code",
   "execution_count": 14,
   "id": "93850e46",
   "metadata": {},
   "outputs": [],
   "source": [
    "def getParamValue(*, paramName, default):\n",
    "    return Lookup.get(keyPairs = [('__paramName__',paramName),],default=default, matchWildcard=True)"
   ]
  },
  {
   "cell_type": "code",
   "execution_count": 15,
   "id": "d3f2a278",
   "metadata": {},
   "outputs": [
    {
     "data": {
      "text/plain": [
       "['John', 23]"
      ]
     },
     "execution_count": 15,
     "metadata": {},
     "output_type": "execute_result"
    }
   ],
   "source": [
    "getParamValue(paramName='*', default='Unknown')"
   ]
  },
  {
   "cell_type": "markdown",
   "id": "fa9bf33c",
   "metadata": {},
   "source": [
    "#### For debugging"
   ]
  },
  {
   "cell_type": "code",
   "execution_count": 18,
   "id": "17b0d86b",
   "metadata": {},
   "outputs": [],
   "source": [
    "from Lookup import Lookup\n",
    "from Lookup import utils"
   ]
  },
  {
   "cell_type": "code",
   "execution_count": 19,
   "id": "1e2a3a79",
   "metadata": {},
   "outputs": [],
   "source": [
    "utils.setCacheEntry(zipFileName='FileName.zip',functionName='some_func',value='some_value')\n",
    "utils.setCacheEntry(zipFileName='FileName.zip',functionName='some_func2',value='some_value2')"
   ]
  },
  {
   "cell_type": "code",
   "execution_count": 22,
   "id": "dae2bb30",
   "metadata": {},
   "outputs": [
    {
     "data": {
      "text/plain": [
       "'some_value'"
      ]
     },
     "execution_count": 22,
     "metadata": {},
     "output_type": "execute_result"
    }
   ],
   "source": [
    "utils.getCacheEntry(zipFileName='FileName.zip',functionName='some_func', default=None)"
   ]
  },
  {
   "cell_type": "code",
   "execution_count": 23,
   "id": "929e0626",
   "metadata": {},
   "outputs": [
    {
     "data": {
      "text/plain": [
       "'some_value2'"
      ]
     },
     "execution_count": 23,
     "metadata": {},
     "output_type": "execute_result"
    }
   ],
   "source": [
    "utils.getCacheEntry(zipFileName='FileName.zip',functionName='some_func2', default=None)"
   ]
  },
  {
   "cell_type": "code",
   "execution_count": 24,
   "id": "81762440",
   "metadata": {},
   "outputs": [
    {
     "name": "stdout",
     "output_type": "stream",
     "text": [
      "['some_value2', 'some_value']\n"
     ]
    }
   ],
   "source": [
    "print(Lookup.getAllValues(keyPairs=[('__zipFileName__','FileName.zip'),]))"
   ]
  },
  {
   "cell_type": "code",
   "execution_count": 25,
   "id": "aee85f5c",
   "metadata": {},
   "outputs": [
    {
     "name": "stdout",
     "output_type": "stream",
     "text": [
      "                                                                                              \n",
      "                                                                                              \n",
      "{('__zipFileName__', 'FileName.zip'), ('__functionName__', 'some_func')}      some_value      \n",
      "{('__zipFileName__', 'FileName.zip'), ('__functionName__', 'some_func2')}     some_value2     \n"
     ]
    }
   ],
   "source": [
    "Lookup.printAllItems(keyPairs=[('__zipFileName__','FileName.zip'),])"
   ]
  },
  {
   "cell_type": "code",
   "execution_count": 30,
   "id": "86678f81",
   "metadata": {},
   "outputs": [
    {
     "name": "stdout",
     "output_type": "stream",
     "text": [
      "                                                                                              \n",
      "                                                                                              \n",
      "{('__zipFileName__', 'FileName.zip'), ('__functionName__', 'some_func')}      some_value      \n",
      "{('__paramName__', 'name')}                                                   John            \n",
      "{('__paramName__', 'age')}                                                    23              \n",
      "{('__zipFileName__', 'FileName.zip'), ('__functionName__', 'some_func2')}     some_value2     \n"
     ]
    }
   ],
   "source": [
    "Lookup.printAllItems(keyPairs=[])"
   ]
  },
  {
   "cell_type": "code",
   "execution_count": null,
   "id": "44616951",
   "metadata": {},
   "outputs": [],
   "source": []
  }
 ],
 "metadata": {
  "kernelspec": {
   "display_name": "Python 3 (ipykernel)",
   "language": "python",
   "name": "python3"
  },
  "language_info": {
   "codemirror_mode": {
    "name": "ipython",
    "version": 3
   },
   "file_extension": ".py",
   "mimetype": "text/x-python",
   "name": "python",
   "nbconvert_exporter": "python",
   "pygments_lexer": "ipython3",
   "version": "3.8.2"
  }
 },
 "nbformat": 4,
 "nbformat_minor": 5
}
