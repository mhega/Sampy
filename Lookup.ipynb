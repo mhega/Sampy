{
 "cells": [
  {
   "cell_type": "code",
   "execution_count": 1,
   "id": "8bd8b06c",
   "metadata": {},
   "outputs": [],
   "source": [
    "from Lookup import utils\n",
    "from Lookup import Lookup\n"
   ]
  },
  {
   "cell_type": "code",
   "execution_count": 2,
   "id": "5ff62244",
   "metadata": {},
   "outputs": [],
   "source": [
    "utils.setCacheEntry(zipFileName='FileName.zip',functionName='some_func',value='some_value')\n"
   ]
  },
  {
   "cell_type": "code",
   "execution_count": 4,
   "id": "fab66a0c",
   "metadata": {},
   "outputs": [
    {
     "data": {
      "text/plain": [
       "'some_value'"
      ]
     },
     "execution_count": 4,
     "metadata": {},
     "output_type": "execute_result"
    }
   ],
   "source": [
    "utils.getCacheEntry(zipFileName='FileName.zip',functionName='some_func', default=1)"
   ]
  },
  {
   "cell_type": "code",
   "execution_count": null,
   "id": "94f0ffcd",
   "metadata": {},
   "outputs": [],
   "source": []
  }
 ],
 "metadata": {
  "kernelspec": {
   "display_name": "Python 3 (ipykernel)",
   "language": "python",
   "name": "python3"
  },
  "language_info": {
   "codemirror_mode": {
    "name": "ipython",
    "version": 3
   },
   "file_extension": ".py",
   "mimetype": "text/x-python",
   "name": "python",
   "nbconvert_exporter": "python",
   "pygments_lexer": "ipython3",
   "version": "3.8.2"
  }
 },
 "nbformat": 4,
 "nbformat_minor": 5
}
