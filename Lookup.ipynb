{
 "cells": [
  {
   "cell_type": "markdown",
   "id": "3b234b99",
   "metadata": {},
   "source": [
    "##### Lookup can be used to accomplish inter-process communication between modules that are shared by the same program run<br><br>Example:\n",
    "\n",
    "\n",
    "\n",
    "module1:\n",
    "```\n",
    "from Lookup import Lookup\n",
    "from Lookup import utils\n",
    "utils.setCacheEntry(zipFileName='FileName.zip',functionName='some_func',value='some_value')\n",
    "```\n",
    "\n",
    "module2:\n",
    "```\n",
    "from Lookup import Lookup\n",
    "from Lookup import utils\n",
    "print(utils.getCacheEntry(zipFileName='FileName.zip',functionName='some_func',default=None))\n",
    "```\n",
    "\n",
    "Calling:\n",
    "```\n",
    ">py\n",
    "Python 3.8.7 (tags/v3.8.7:6503f05, Dec 21 2020, 17:59:51) [MSC v.1928 64 bit (AMD64)] on win32\n",
    "Type \"help\", \"copyright\", \"credits\" or \"license\" for more information.\n",
    ">>> import module1\n",
    ">>> import module2\n",
    "some_value\n",
    ">>>\n",
    "```"
   ]
  },
  {
   "cell_type": "code",
   "execution_count": 5,
   "id": "8b7b11f8",
   "metadata": {},
   "outputs": [],
   "source": [
    "from Lookup import utils\n",
    "from Lookup import Lookup\n"
   ]
  },
  {
   "cell_type": "code",
   "execution_count": 8,
   "id": "03e84501",
   "metadata": {},
   "outputs": [],
   "source": [
    "utils.setCacheEntry(zipFileName='FileName.zip',functionName='some_func',value='some_value')\n"
   ]
  },
  {
   "cell_type": "code",
   "execution_count": 9,
   "id": "d463ae99",
   "metadata": {},
   "outputs": [
    {
     "data": {
      "text/plain": [
       "'some_value'"
      ]
     },
     "execution_count": 9,
     "metadata": {},
     "output_type": "execute_result"
    }
   ],
   "source": [
    "utils.getCacheEntry(zipFileName='FileName.zip',functionName='some_func', default=None)"
   ]
  },
  {
   "cell_type": "code",
   "execution_count": null,
   "id": "be74662a",
   "metadata": {},
   "outputs": [],
   "source": []
  }
 ],
 "metadata": {
  "kernelspec": {
   "display_name": "Python 3 (ipykernel)",
   "language": "python",
   "name": "python3"
  },
  "language_info": {
   "codemirror_mode": {
    "name": "ipython",
    "version": 3
   },
   "file_extension": ".py",
   "mimetype": "text/x-python",
   "name": "python",
   "nbconvert_exporter": "python",
   "pygments_lexer": "ipython3",
   "version": "3.8.2"
  }
 },
 "nbformat": 4,
 "nbformat_minor": 5
}
