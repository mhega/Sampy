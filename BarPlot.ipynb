{
 "cells": [
  {
   "cell_type": "code",
   "execution_count": 1,
   "id": "7d351841",
   "metadata": {},
   "outputs": [],
   "source": [
    "from BarPlot import BarPlot\n",
    "from ListTables import printList"
   ]
  },
  {
   "cell_type": "code",
   "execution_count": 2,
   "id": "6ed78489",
   "metadata": {},
   "outputs": [],
   "source": [
    "NameList = [('John',49),('Anne',40),('Ken',20),('Joe',15),('Louis',13),('Ken',2)]"
   ]
  },
  {
   "cell_type": "code",
   "execution_count": 3,
   "id": "16ea323e",
   "metadata": {},
   "outputs": [
    {
     "name": "stdout",
     "output_type": "stream",
     "text": [
      "Name      Score     \n",
      "----      -----     \n",
      "John      49        \n",
      "Anne      40        \n",
      "Ken       20        \n",
      "Joe       15        \n",
      "Louis     13        \n",
      "Ken       2         \n"
     ]
    }
   ],
   "source": [
    "printList(('Name','Score'), NameList)"
   ]
  },
  {
   "cell_type": "code",
   "execution_count": 4,
   "id": "38e35b3f",
   "metadata": {},
   "outputs": [
    {
     "name": "stdout",
     "output_type": "stream",
     "text": [
      "Name      Score                                                           \n",
      "----      -----                                                           \n",
      "John      49        *************************************************     \n",
      "Anne      40        ****************************************              \n",
      "Ken       20        ********************                                  \n",
      "Joe       15        ***************                                       \n",
      "Louis     13        *************                                         \n",
      "Ken       2         **                                                    \n"
     ]
    }
   ],
   "source": [
    "printList(('Name','Score',''), BarPlot.appendBarPlot(NameList,1))"
   ]
  },
  {
   "cell_type": "code",
   "execution_count": 7,
   "id": "9318c22e",
   "metadata": {},
   "outputs": [
    {
     "name": "stdout",
     "output_type": "stream",
     "text": [
      "Name      Score                                                           Significance     \n",
      "----      -----                                                           ------------     \n",
      "John      49        *************************************************     0.85             \n",
      "Anne      40        ****************************************              1.60             \n",
      "Ken       20        ********************                                  1.00             \n",
      "Joe       15        ***************                                       0.31             \n",
      "Louis     13        *************                                         6.50             \n",
      "Ken       2         **                                                    0.00             \n"
     ]
    }
   ],
   "source": [
    "printList(('Name','Score','','Significance')\n",
    "          , BarPlot.addWeights(\n",
    "              BarPlot.appendBarPlot(NameList,1)\n",
    "              ,1)\n",
    "         )"
   ]
  },
  {
   "cell_type": "code",
   "execution_count": null,
   "id": "d3a92167",
   "metadata": {},
   "outputs": [],
   "source": []
  }
 ],
 "metadata": {
  "kernelspec": {
   "display_name": "Python 3 (ipykernel)",
   "language": "python",
   "name": "python3"
  },
  "language_info": {
   "codemirror_mode": {
    "name": "ipython",
    "version": 3
   },
   "file_extension": ".py",
   "mimetype": "text/x-python",
   "name": "python",
   "nbconvert_exporter": "python",
   "pygments_lexer": "ipython3",
   "version": "3.8.2"
  }
 },
 "nbformat": 4,
 "nbformat_minor": 5
}
