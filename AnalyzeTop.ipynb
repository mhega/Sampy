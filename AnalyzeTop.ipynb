{
 "cells": [
  {
   "cell_type": "markdown",
   "id": "db01bef1",
   "metadata": {},
   "source": [
    "## AnalyzeTop script test case"
   ]
  },
  {
   "cell_type": "markdown",
   "id": "c688e9fe",
   "metadata": {},
   "source": [
    "In this case study, we are analyzing Linux process data that is collected on a Raspberry PI server thru the execution of top command<br> while a stress test is running to simulate persistent high %CPU on the same machine.<br> This is to allow the script to identify top CPU% outliers\n",
    "\n",
    "\n"
   ]
  },
  {
   "cell_type": "markdown",
   "id": "11caddfc",
   "metadata": {},
   "source": [
    "### Data collection steps:"
   ]
  },
  {
   "cell_type": "markdown",
   "id": "3aaa568c",
   "metadata": {},
   "source": [
    "#### 1. Running stress test for simulating high %CPU:\n",
    "\n",
    "pi@raspberrypi:~ \\\\$ for i in 1 2 3 4; do while : ; do : ; done & done\n",
    "<br>[1] 909\n",
    "<br>[2] 910\n",
    "<br>[3] 911\n",
    "<br>[4] 912\n",
    "<br>pi@raspberrypi:~ \\\\$\n"
   ]
  },
  {
   "cell_type": "markdown",
   "id": "1217d9af",
   "metadata": {},
   "source": [
    "##### 2. Capturing top output:\n",
    "\n",
    "pi@raspberrypi:~ \\\\$ top -b -n 4 -H > top.out"
   ]
  },
  {
   "cell_type": "markdown",
   "id": "239b2ef3",
   "metadata": {},
   "source": [
    "###### Command options which we are using to run top command :"
   ]
  },
  {
   "cell_type": "markdown",
   "id": "d7a35cfa",
   "metadata": {},
   "source": [
    "-b option to specify batch mode<br><br>and<br><br> -n option to capture 4 snapshots of top output <br><br>and<br><br> -H option to collect thread details"
   ]
  },
  {
   "cell_type": "markdown",
   "id": "643ea97a",
   "metadata": {},
   "source": [
    "#### Required modules:"
   ]
  },
  {
   "cell_type": "markdown",
   "id": "7586e4e3",
   "metadata": {},
   "source": [
    "AnalyzeTop\n",
    "<br>InfoRecord\n",
    "<br>ListTables\n",
    "<br>Table"
   ]
  },
  {
   "cell_type": "markdown",
   "id": "3b19bd33",
   "metadata": {},
   "source": [
    "\"TimesSeen\" column in the output below represents the number of times each task is seen in the four collected snapshots - i.e., reflects how persistet  the task is during the four individual collections"
   ]
  },
  {
   "cell_type": "code",
   "execution_count": 1,
   "id": "9758746d",
   "metadata": {},
   "outputs": [
    {
     "name": "stdout",
     "output_type": "stream",
     "text": [
      "\n",
      "\n",
      "Top analysis summary by highest sum(%%CPU):\n",
      "-------------------------------------------\n",
      "\n",
      "Tasks are sorted in descending order according to each task's sum of all reported CPU pecentage value snapshots\n",
      "This is to ensure both the CPU% value and task persistence are taken into accout during sorting of task significance.\n",
      "\n",
      "\n",
      "\n",
      "\n",
      ".................................................................................\n",
      ".                                 pi@raspberrypi                                .\n",
      ".                                 --------------                                .\n",
      ".          PID     CMD                          TimesSeen     Avg%CPU           .\n",
      ".          ---     ---                          ---------     -------           .\n",
      ".          910     bash                         4             99                .\n",
      ".          912     bash                         4             99                .\n",
      ".          911     bash                         4             97                .\n",
      ".          909     bash                         4             96                .\n",
      ".          914     top                          4             2                 .\n",
      ".          504     Xorg                         3             2                 .\n",
      ".          10      rcu_sched                    1             5                 .\n",
      ".          836     lxterminal                   1             1                 .\n",
      ".          893     kworker/u8:2-flush-179:0     1             0                 .\n",
      ".          524     InputThread                  1             0                 .\n",
      ".          655     lxpanel                      1             0                 .\n",
      ".          16      ksoftirqd/1                  1             0                 .\n",
      ".          482     wpa_supplicant               1             0                 .\n",
      ".          902     kworker/0:0-events           1             0                 .\n",
      ".................................................................................\n"
     ]
    }
   ],
   "source": [
    "from analyzetop import Top\n",
    "run = Top('top.out','pi@raspberrypi')\n",
    "run.analyze()"
   ]
  },
  {
   "cell_type": "code",
   "execution_count": null,
   "id": "8f20a647",
   "metadata": {},
   "outputs": [],
   "source": []
  }
 ],
 "metadata": {
  "kernelspec": {
   "display_name": "Python 3 (ipykernel)",
   "language": "python",
   "name": "python3"
  },
  "language_info": {
   "codemirror_mode": {
    "name": "ipython",
    "version": 3
   },
   "file_extension": ".py",
   "mimetype": "text/x-python",
   "name": "python",
   "nbconvert_exporter": "python",
   "pygments_lexer": "ipython3",
   "version": "3.8.2"
  }
 },
 "nbformat": 4,
 "nbformat_minor": 5
}
